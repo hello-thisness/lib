{
 "cells": [
  {
   "cell_type": "code",
   "execution_count": 4,
   "id": "da23db9e-7285-4653-bc1a-cc5920256ae1",
   "metadata": {},
   "outputs": [
    {
     "name": "stdout",
     "output_type": "stream",
     "text": [
      "0    0.25\n",
      "1    0.50\n",
      "2    0.75\n",
      "3    1.00\n",
      "dtype: float64\n",
      "Cal    30404050\n",
      "Tex     3949494\n",
      "NY     49495858\n",
      "Ill      394894\n",
      "dtype: int64\n",
      "Cal    34050\n",
      "Tex     3494\n",
      "NY      4858\n",
      "Ill      394\n",
      "dtype: int64\n",
      "     population   area\n",
      "Cal    30404050  34050\n",
      "Tex     3949494   3494\n",
      "NY     49495858   4858\n",
      "Ill      394894    394\n"
     ]
    }
   ],
   "source": [
    "import numpy as np \n",
    "import pandas as pd \n",
    "\n",
    "\n",
    "data = pd.Series( [0.25, 0.5,0.75,1.0] )\n",
    "\n",
    "print (data)\n",
    "\n",
    "\n",
    "pop_dict = { 'Cal':30404050, 'Tex':3949494, 'NY':49495858, 'Ill':394894 } \n",
    "pop = pd.Series ( pop_dict ) \n",
    "\n",
    "print (pop) \n",
    "\n",
    "area_dict = { 'Cal':34050, 'Tex':3494, 'NY':4858, 'Ill':394 }\n",
    "\n",
    "area = pd.Series (area_dict)\n",
    "print (area )\n",
    "\n",
    "#\n",
    "# dataframe 은 series 객채를 이용해서 2차원 정보를 구성\n",
    "#\n",
    "\n",
    "\n",
    "states = pd.DataFrame( { 'population':pop , 'area':area }) \n",
    "print (states ) \n"
   ]
  },
  {
   "cell_type": "code",
   "execution_count": 13,
   "id": "6e6d0661-914c-44f0-a30c-76d5e5d92238",
   "metadata": {},
   "outputs": [
    {
     "name": "stdout",
     "output_type": "stream",
     "text": [
      "     population   area\n",
      "Cal    30404050  34050\n",
      "Tex     3949494   3494\n",
      "NY     49495858   4858\n",
      "Ill      394894    394\n",
      "Cal      892.923642\n",
      "Tex     1130.364625\n",
      "NY     10188.525731\n",
      "Ill     1002.269036\n",
      "dtype: float64\n",
      "     population   area       density\n",
      "Cal    30404050  34050    892.923642\n",
      "Tex     3949494   3494   1130.364625\n",
      "NY     49495858   4858  10188.525731\n",
      "Ill      394894    394   1002.269036\n"
     ]
    }
   ],
   "source": [
    "\n",
    "#\n",
    "# 컬럼 명을 이용해서 특정 컬럼을 지정 할수 있다 \n",
    "#\n",
    "\n",
    "print (states )\n",
    "# print (states.area ) \n",
    "\n",
    "#\n",
    "# 컬럼 명을 이용해서 특정 컬럼을 지정 할수 있다 \n",
    "#\n",
    "states['density'] = states.population / states.area\n",
    "print (states.density )\n",
    "print (states )\n"
   ]
  },
  {
   "cell_type": "code",
   "execution_count": 15,
   "id": "31011a1b-d533-4eb0-be44-9d91e3d4381c",
   "metadata": {},
   "outputs": [
    {
     "name": "stdout",
     "output_type": "stream",
     "text": [
      "     population  area       density\n",
      "Tex     3949494  3494   1130.364625\n",
      "NY     49495858  4858  10188.525731\n",
      "Ill      394894   394   1002.269036\n"
     ]
    }
   ],
   "source": [
    "#\n",
    "#\n",
    "#\n",
    "\n",
    "print (states.loc [ states.density > 1000 , ['population','area','density'] ]  ) \n"
   ]
  },
  {
   "cell_type": "code",
   "execution_count": null,
   "id": "5e1426b6-7ff8-4d7d-9a17-15f3a4624c35",
   "metadata": {},
   "outputs": [],
   "source": []
  }
 ],
 "metadata": {
  "kernelspec": {
   "display_name": "Python 3 (ipykernel)",
   "language": "python",
   "name": "python3"
  },
  "language_info": {
   "codemirror_mode": {
    "name": "ipython",
    "version": 3
   },
   "file_extension": ".py",
   "mimetype": "text/x-python",
   "name": "python",
   "nbconvert_exporter": "python",
   "pygments_lexer": "ipython3",
   "version": "3.11.0"
  }
 },
 "nbformat": 4,
 "nbformat_minor": 5
}
