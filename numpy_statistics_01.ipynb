{
 "cells": [
  {
   "cell_type": "code",
   "execution_count": 1,
   "metadata": {},
   "outputs": [],
   "source": [
    "#\n",
    "#\n",
    "#\n",
    "#\n",
    "\n",
    "import numpy as np \n",
    "\n",
    "l = np.random.random(100)\n"
   ]
  },
  {
   "cell_type": "code",
   "execution_count": 4,
   "metadata": {},
   "outputs": [
    {
     "name": "stdout",
     "output_type": "stream",
     "text": [
      "48.66807560138574\n"
     ]
    }
   ],
   "source": [
    "#\n",
    "# 합계\n",
    "#\n",
    "\n",
    "s = sum(l)\n",
    "print (s ) "
   ]
  },
  {
   "cell_type": "code",
   "execution_count": 5,
   "metadata": {},
   "outputs": [
    {
     "name": "stdout",
     "output_type": "stream",
     "text": [
      "0.011120863705181505\n",
      "0.9843648871796227\n"
     ]
    }
   ],
   "source": [
    "#\n",
    "#  최대값 , 최소값 \n",
    "#\n",
    "\n",
    "print ( min(l) ) \n",
    "print ( max (l) ) "
   ]
  },
  {
   "cell_type": "code",
   "execution_count": 7,
   "metadata": {},
   "outputs": [
    {
     "name": "stdout",
     "output_type": "stream",
     "text": [
      "0.48668075601385746\n",
      "0.2786092789819779\n"
     ]
    }
   ],
   "source": [
    "#\n",
    "# 편균 편차 \n",
    "#\n",
    "print ( l.mean())\n",
    "print ( l.std())"
   ]
  },
  {
   "cell_type": "code",
   "execution_count": 11,
   "metadata": {},
   "outputs": [
    {
     "data": {
      "text/plain": [
       "(array([ 9., 14., 10.,  9.,  9., 11.,  7., 12., 12.,  7.]),\n",
       " array([0.01112086, 0.10844527, 0.20576967, 0.30309407, 0.40041847,\n",
       "        0.49774288, 0.59506728, 0.69239168, 0.78971608, 0.88704048,\n",
       "        0.98436489]),\n",
       " <BarContainer object of 10 artists>)"
      ]
     },
     "execution_count": 11,
     "metadata": {},
     "output_type": "execute_result"
    },
    {
     "data": {
      "image/png": "[encoded data removed]",
      "text/plain": [
       "<Figure size 640x480 with 1 Axes>"
      ]
     },
     "metadata": {},
     "output_type": "display_data"
    }
   ],
   "source": [
    "#\n",
    "#. chart \n",
    "#\n",
    "\n",
    "import matplotlib.pyplot as plt\n",
    "\n",
    "plt.hist (l )"
   ]
  },
  {
   "cell_type": "code",
   "execution_count": null,
   "metadata": {},
   "outputs": [],
   "source": []
  }
 ],
 "metadata": {
  "kernelspec": {
   "display_name": "Python 3 (ipykernel)",
   "language": "python",
   "name": "python3"
  },
  "language_info": {
   "codemirror_mode": {
    "name": "ipython",
    "version": 3
   },
   "file_extension": ".py",
   "mimetype": "text/x-python",
   "name": "python",
   "nbconvert_exporter": "python",
   "pygments_lexer": "ipython3",
   "version": "3.11.0"
  }
 },
 "nbformat": 4,
 "nbformat_minor": 4
}
