{
 "cells": [
  {
   "cell_type": "code",
   "execution_count": 1,
   "id": "5f8af42c-861b-45a4-a6b1-11e0a304fea5",
   "metadata": {},
   "outputs": [
    {
     "name": "stdout",
     "output_type": "stream",
     "text": [
      " i became a zombie\n"
     ]
    }
   ],
   "source": [
    "#\n",
    "#\n",
    "#\n",
    "#.  string 쪼개기 \n",
    "#\n",
    "\n",
    "string =\" i became a zombie\"\n",
    "\n",
    "print ( string ) \n",
    "\n"
   ]
  },
  {
   "cell_type": "code",
   "execution_count": 2,
   "id": "8ffc0722-fe76-4471-b623-77dfcff2e80b",
   "metadata": {},
   "outputs": [
    {
     "data": {
      "text/plain": [
       "[' ',\n",
       " 'i',\n",
       " ' ',\n",
       " 'b',\n",
       " 'e',\n",
       " 'c',\n",
       " 'a',\n",
       " 'm',\n",
       " 'e',\n",
       " ' ',\n",
       " 'a',\n",
       " ' ',\n",
       " 'z',\n",
       " 'o',\n",
       " 'm',\n",
       " 'b',\n",
       " 'i',\n",
       " 'e']"
      ]
     },
     "execution_count": 2,
     "metadata": {},
     "output_type": "execute_result"
    }
   ],
   "source": [
    "# 공백을 포함 한 한 문자씩 나눔 \n",
    "\n",
    "list ( string ) "
   ]
  },
  {
   "cell_type": "code",
   "execution_count": 3,
   "id": "a8f3e40d-e4e5-4692-bdf9-e52f8004dcc7",
   "metadata": {},
   "outputs": [
    {
     "name": "stdout",
     "output_type": "stream",
     "text": [
      "['i', 'became', 'a', 'zombie']\n"
     ]
    }
   ],
   "source": [
    "# 공백을 구분자로 나누어 리스트를 만듬 \n",
    "# 구분자 지정 없이 split() 만 사용하면 공백을 구분자로 나눔 \n",
    "print ( string.split())"
   ]
  },
  {
   "cell_type": "code",
   "execution_count": 4,
   "id": "70fe096d-d109-4df0-9571-e31a5405211d",
   "metadata": {},
   "outputs": [
    {
     "name": "stdout",
     "output_type": "stream",
     "text": [
      "[' i bec', 'me ', ' zombie']\n"
     ]
    }
   ],
   "source": [
    "#. 'a' 를 구분자로 나눔 \n",
    "print ( string.split('a'))\n"
   ]
  },
  {
   "cell_type": "code",
   "execution_count": 7,
   "id": "fef760ef-59a6-4652-bebd-4e645083817a",
   "metadata": {},
   "outputs": [
    {
     "name": "stdout",
     "output_type": "stream",
     "text": [
      "i_became_a_zombie\n"
     ]
    }
   ],
   "source": [
    "# 합치기 \n",
    "# 합치면서 공백을 넣으려면  (' ')\n",
    "# 합치면서 _ 를 넣으려면  ('_')\n",
    "\n",
    "#print ( (' ').join(string.split()) )\n",
    "print ( ('_').join(string.split()) )\n"
   ]
  },
  {
   "cell_type": "code",
   "execution_count": null,
   "id": "a67e1185-2b12-43ae-9037-ee0930b21518",
   "metadata": {},
   "outputs": [],
   "source": []
  }
 ],
 "metadata": {
  "kernelspec": {
   "display_name": "Python 3 (ipykernel)",
   "language": "python",
   "name": "python3"
  },
  "language_info": {
   "codemirror_mode": {
    "name": "ipython",
    "version": 3
   },
   "file_extension": ".py",
   "mimetype": "text/x-python",
   "name": "python",
   "nbconvert_exporter": "python",
   "pygments_lexer": "ipython3",
   "version": "3.11.0"
  }
 },
 "nbformat": 4,
 "nbformat_minor": 5
}
